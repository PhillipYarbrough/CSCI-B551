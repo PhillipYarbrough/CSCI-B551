{
  "nbformat": 4,
  "nbformat_minor": 0,
  "metadata": {
    "colab": {
      "name": "Untitled1.ipynb",
      "provenance": [],
      "collapsed_sections": [],
      "authorship_tag": "ABX9TyNoh0lhaOM2sPA+8I5xzw6B",
      "include_colab_link": true
    },
    "kernelspec": {
      "name": "python3",
      "display_name": "Python 3"
    },
    "language_info": {
      "name": "python"
    }
  },
  "cells": [
    {
      "cell_type": "markdown",
      "metadata": {
        "id": "view-in-github",
        "colab_type": "text"
      },
      "source": [
        "<a href=\"https://colab.research.google.com/github/PhillipYarbrough/CSCI-B551/blob/main/Shadowing_Functions.ipynb\" target=\"_parent\"><img src=\"https://colab.research.google.com/assets/colab-badge.svg\" alt=\"Open In Colab\"/></a>"
      ]
    },
    {
      "cell_type": "code",
      "execution_count": 1,
      "metadata": {
        "colab": {
          "base_uri": "https://localhost:8080/"
        },
        "id": "LAs67nakD3_-",
        "outputId": "8d54f027-3050-4fcd-d319-7fa9914dbda7"
      },
      "outputs": [
        {
          "output_type": "stream",
          "name": "stdout",
          "text": [
            "5\n",
            "3\n"
          ]
        }
      ],
      "source": [
        "# Global variable\n",
        "a = 3\n",
        "def fun():\n",
        "\n",
        "  # Local variable\n",
        "  a = 5\n",
        "  print(a) # prints 5\n",
        "\n",
        "fun()\n",
        "print(a) # prints 3"
      ]
    },
    {
      "cell_type": "code",
      "source": [
        "# How to avoid variable shadowing\n",
        "\n",
        "# To modify a global variable, and avoid variable shadowing python provides\n",
        "# global keyword which tells python to use the global version of the variable, \n",
        "# instead of creating a new locally scoped variable.\n",
        "\n",
        "# Global variable\n",
        "a = 3\n",
        "def fun():\n",
        "  global a\n",
        "  # Global variable modified\n",
        "  a = 5\n",
        "  print(a)\n",
        "\n",
        "print(a)\n",
        "fun()"
      ],
      "metadata": {
        "colab": {
          "base_uri": "https://localhost:8080/"
        },
        "id": "HLWby7wKEZfB",
        "outputId": "7891ac95-31bc-456c-f140-0971e69ba810"
      },
      "execution_count": 4,
      "outputs": [
        {
          "output_type": "stream",
          "name": "stdout",
          "text": [
            "3\n",
            "5\n"
          ]
        }
      ]
    }
  ]
}