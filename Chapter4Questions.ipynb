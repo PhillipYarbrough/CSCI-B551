{
  "nbformat": 4,
  "nbformat_minor": 0,
  "metadata": {
    "colab": {
      "name": "Untitled0.ipynb",
      "provenance": [],
      "authorship_tag": "ABX9TyMCboqRDXhgmOc7ChVkLx4z",
      "include_colab_link": true
    },
    "kernelspec": {
      "name": "python3",
      "display_name": "Python 3"
    },
    "language_info": {
      "name": "python"
    }
  },
  "cells": [
    {
      "cell_type": "markdown",
      "metadata": {
        "id": "view-in-github",
        "colab_type": "text"
      },
      "source": [
        "<a href=\"https://colab.research.google.com/github/PhillipYarbrough/CSCI-B551/blob/main/Chapter4Questions.ipynb\" target=\"_parent\"><img src=\"https://colab.research.google.com/assets/colab-badge.svg\" alt=\"Open In Colab\"/></a>"
      ]
    },
    {
      "cell_type": "code",
      "execution_count": 5,
      "metadata": {
        "colab": {
          "base_uri": "https://localhost:8080/"
        },
        "id": "Kmr5hfPZpgXM",
        "outputId": "b0b98131-b94b-4495-e25c-76629b0aa6b3"
      },
      "outputs": [
        {
          "output_type": "stream",
          "name": "stdout",
          "text": [
            "1234\n"
          ]
        }
      ],
      "source": [
        "# 4.13\n",
        "# Local Scope Example\n",
        "# Variable created inside a function is availbale inside that function \n",
        "\n",
        "def Local_Scopes_Are_Awesome():\n",
        "  x = 1234\n",
        "  print(x)\n",
        "Local_Scopes_Are_Awesome()\n",
        "\n",
        "# variable x is not availab;e outside the function.\n",
        "#print(x)"
      ]
    },
    {
      "cell_type": "code",
      "source": [
        ""
      ],
      "metadata": {
        "id": "zu_I8oVXtPNk"
      },
      "execution_count": null,
      "outputs": []
    }
  ]
}