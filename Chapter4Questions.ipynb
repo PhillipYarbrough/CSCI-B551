{
  "nbformat": 4,
  "nbformat_minor": 0,
  "metadata": {
    "colab": {
      "name": "Untitled0.ipynb",
      "provenance": [],
      "collapsed_sections": [],
      "authorship_tag": "ABX9TyMRqSocfNS0JH+HbOBlNZMb",
      "include_colab_link": true
    },
    "kernelspec": {
      "name": "python3",
      "display_name": "Python 3"
    },
    "language_info": {
      "name": "python"
    }
  },
  "cells": [
    {
      "cell_type": "markdown",
      "metadata": {
        "id": "view-in-github",
        "colab_type": "text"
      },
      "source": [
        "<a href=\"https://colab.research.google.com/github/PhillipYarbrough/CSCI-B551/blob/main/Chapter4Questions.ipynb\" target=\"_parent\"><img src=\"https://colab.research.google.com/assets/colab-badge.svg\" alt=\"Open In Colab\"/></a>"
      ]
    },
    {
      "cell_type": "code",
      "execution_count": 5,
      "metadata": {
        "colab": {
          "base_uri": "https://localhost:8080/"
        },
        "id": "Kmr5hfPZpgXM",
        "outputId": "b0b98131-b94b-4495-e25c-76629b0aa6b3"
      },
      "outputs": [
        {
          "output_type": "stream",
          "name": "stdout",
          "text": [
            "1234\n"
          ]
        }
      ],
      "source": [
        "# 4.13\n",
        "# Local Scope Example\n",
        "# Variable created inside a function is availbale inside that function \n",
        "\n",
        "def Local_Scopes_Are_Awesome():\n",
        "  x = 1234\n",
        "  print(x)\n",
        "Local_Scopes_Are_Awesome()\n",
        "\n",
        "# variable x is not available outside the function.\n",
        "#print(x)"
      ]
    },
    {
      "cell_type": "code",
      "source": [
        "# Global Scope Example\n",
        "# A variable created outside of a function is global and can be used by anyone\n",
        "# Same variable name inside and outside of a function, Python will treat them as two separate variables, one available in the global scope (outside the function) and one available in the local scope (inside the function)\n",
        "\n",
        "y = 1234\n",
        "\n",
        "def Pineapple_On_Pizza():\n",
        "  y = 1\n",
        "  print(y)\n",
        "\n",
        "Pineapple_On_Pizza()\n",
        "\n",
        "print(y)"
      ],
      "metadata": {
        "colab": {
          "base_uri": "https://localhost:8080/"
        },
        "id": "zu_I8oVXtPNk",
        "outputId": "3874cd33-9770-4ed0-c490-899be336aea1"
      },
      "execution_count": 7,
      "outputs": [
        {
          "output_type": "stream",
          "name": "stdout",
          "text": [
            "1\n",
            "1234\n"
          ]
        }
      ]
    }
  ]
}