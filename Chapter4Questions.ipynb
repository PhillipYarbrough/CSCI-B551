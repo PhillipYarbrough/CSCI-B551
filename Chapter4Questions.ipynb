{
  "nbformat": 4,
  "nbformat_minor": 0,
  "metadata": {
    "colab": {
      "name": "Untitled0.ipynb",
      "provenance": [],
      "collapsed_sections": [],
      "authorship_tag": "ABX9TyMlkYaqt95ShxtTAlRU7pqD",
      "include_colab_link": true
    },
    "kernelspec": {
      "name": "python3",
      "display_name": "Python 3"
    },
    "language_info": {
      "name": "python"
    }
  },
  "cells": [
    {
      "cell_type": "markdown",
      "metadata": {
        "id": "view-in-github",
        "colab_type": "text"
      },
      "source": [
        "<a href=\"https://colab.research.google.com/github/PhillipYarbrough/CSCI-B551/blob/main/Chapter4Questions.ipynb\" target=\"_parent\"><img src=\"https://colab.research.google.com/assets/colab-badge.svg\" alt=\"Open In Colab\"/></a>"
      ]
    },
    {
      "cell_type": "code",
      "execution_count": 5,
      "metadata": {
        "colab": {
          "base_uri": "https://localhost:8080/"
        },
        "id": "Kmr5hfPZpgXM",
        "outputId": "b0b98131-b94b-4495-e25c-76629b0aa6b3"
      },
      "outputs": [
        {
          "output_type": "stream",
          "name": "stdout",
          "text": [
            "1234\n"
          ]
        }
      ],
      "source": [
        "# 4.13\n",
        "# Local Scope Example\n",
        "# Variable created inside a function is availbale inside that function \n",
        "\n",
        "def Local_Scopes_Are_Awesome():\n",
        "  x = 1234\n",
        "  print(x)\n",
        "Local_Scopes_Are_Awesome()\n",
        "\n",
        "# variable x is not available outside the function.\n",
        "#print(x)"
      ]
    },
    {
      "cell_type": "code",
      "source": [
        "# Global Scope Example\n",
        "# A variable created outside of a function is global and can be used by anyone\n",
        "\n",
        "#Same variable name inside and outside of a function, Python will treat them as\n",
        "#two separate variables, one available in the global scope (outside the function)\n",
        "#and one available in the local scope (inside the function)\n",
        "\n",
        "y = 1234\n",
        "\n",
        "def Pineapple_On_Pizza():\n",
        "  y = 1\n",
        "  print(y)\n",
        "\n",
        "Pineapple_On_Pizza()\n",
        "\n",
        "print(y)"
      ],
      "metadata": {
        "colab": {
          "base_uri": "https://localhost:8080/"
        },
        "id": "zu_I8oVXtPNk",
        "outputId": "3874cd33-9770-4ed0-c490-899be336aea1"
      },
      "execution_count": 7,
      "outputs": [
        {
          "output_type": "stream",
          "name": "stdout",
          "text": [
            "1\n",
            "1234\n"
          ]
        }
      ]
    },
    {
      "cell_type": "code",
      "source": [
        "# Shadowing Functions Example\n",
        "\n",
        "Pad_Thai = 12 + 6\n",
        "\n",
        "Pad_Thai"
      ],
      "metadata": {
        "colab": {
          "base_uri": "https://localhost:8080/"
        },
        "id": "qigZ3MwKw7hE",
        "outputId": "3c13325b-2202-484d-9114-886a0f2c2669"
      },
      "execution_count": 10,
      "outputs": [
        {
          "output_type": "execute_result",
          "data": {
            "text/plain": [
              "18"
            ]
          },
          "metadata": {},
          "execution_count": 10
        }
      ]
    },
    {
      "cell_type": "code",
      "source": [
        "# 4.15 Passing Arguments\n",
        "# Memory Addresses Example\n",
        "\n",
        "x = 7\n",
        "# the variable x does not actually contain the value 7. Rather, it contains a reference to an\n",
        "# object containing 7 (and some other data we’ll discuss in later chapters) stored elsewhere in memory."
      ],
      "metadata": {
        "id": "rf7Z8vC69crH"
      },
      "execution_count": null,
      "outputs": []
    },
    {
      "cell_type": "code",
      "source": [
        "# Built-In Function id and Object Identities Example \n",
        "Curry = 5\n",
        "id(Curry)"
      ],
      "metadata": {
        "colab": {
          "base_uri": "https://localhost:8080/"
        },
        "id": "dIMttrqe-a1t",
        "outputId": "f2fd2efc-c851-4078-a29e-568e20900470"
      },
      "execution_count": 11,
      "outputs": [
        {
          "output_type": "execute_result",
          "data": {
            "text/plain": [
              "94135358122624"
            ]
          },
          "metadata": {},
          "execution_count": 11
        }
      ]
    },
    {
      "cell_type": "code",
      "source": [
        "# Testing Object Identities with the is Operator Example\n",
        "\n",
        "Ice_Cream = 'amazing'\n",
        "Brownies = 'amazing'\n",
        "\n",
        "Ice_Cream is Brownies"
      ],
      "metadata": {
        "colab": {
          "base_uri": "https://localhost:8080/"
        },
        "id": "V8Wif4LqBPbn",
        "outputId": "592f9308-af30-48de-d8d0-cf3c0cd1094c"
      },
      "execution_count": 12,
      "outputs": [
        {
          "output_type": "execute_result",
          "data": {
            "text/plain": [
              "True"
            ]
          },
          "metadata": {},
          "execution_count": 12
        }
      ]
    },
    {
      "cell_type": "code",
      "source": [
        "# Immutable Objects Example\n",
        "How_cool_would_it_be_if_we_did_not_have_to_work_and_just_enjoyed_our_free_time = (0,1,2,3)\n",
        "How_cool_would_it_be_if_we_did_not_have_to_work_and_just_enjoyed_our_free_time[0] = 34\n",
        "\n",
        "print(How_cool_would_it_be_if_we_did_not_have_to_work_and_just_enjoyed_our_free_time)"
      ],
      "metadata": {
        "colab": {
          "base_uri": "https://localhost:8080/",
          "height": 235
        },
        "id": "BGYOUL_1C_hy",
        "outputId": "ab6a0865-b870-4c4f-9ec9-e5eda241ad0e"
      },
      "execution_count": 13,
      "outputs": [
        {
          "output_type": "error",
          "ename": "TypeError",
          "evalue": "ignored",
          "traceback": [
            "\u001b[0;31m---------------------------------------------------------------------------\u001b[0m",
            "\u001b[0;31mTypeError\u001b[0m                                 Traceback (most recent call last)",
            "\u001b[0;32m<ipython-input-13-eb03c60bb42d>\u001b[0m in \u001b[0;36m<module>\u001b[0;34m()\u001b[0m\n\u001b[1;32m      1\u001b[0m \u001b[0;31m# Immutable Objects Example\u001b[0m\u001b[0;34m\u001b[0m\u001b[0;34m\u001b[0m\u001b[0;34m\u001b[0m\u001b[0m\n\u001b[1;32m      2\u001b[0m \u001b[0mHow_cool_would_it_be_if_we_did_not_have_to_work_and_just_enjoyed_our_free_time\u001b[0m \u001b[0;34m=\u001b[0m \u001b[0;34m(\u001b[0m\u001b[0;36m0\u001b[0m\u001b[0;34m,\u001b[0m\u001b[0;36m1\u001b[0m\u001b[0;34m,\u001b[0m\u001b[0;36m2\u001b[0m\u001b[0;34m,\u001b[0m\u001b[0;36m3\u001b[0m\u001b[0;34m)\u001b[0m\u001b[0;34m\u001b[0m\u001b[0;34m\u001b[0m\u001b[0m\n\u001b[0;32m----> 3\u001b[0;31m \u001b[0mHow_cool_would_it_be_if_we_did_not_have_to_work_and_just_enjoyed_our_free_time\u001b[0m\u001b[0;34m[\u001b[0m\u001b[0;36m0\u001b[0m\u001b[0;34m]\u001b[0m \u001b[0;34m=\u001b[0m \u001b[0;36m34\u001b[0m\u001b[0;34m\u001b[0m\u001b[0;34m\u001b[0m\u001b[0m\n\u001b[0m\u001b[1;32m      4\u001b[0m \u001b[0;34m\u001b[0m\u001b[0m\n\u001b[1;32m      5\u001b[0m \u001b[0mprint\u001b[0m\u001b[0;34m(\u001b[0m\u001b[0mHow_cool_would_it_be_if_we_did_not_have_to_work_and_just_enjoyed_our_free_time\u001b[0m\u001b[0;34m)\u001b[0m\u001b[0;34m\u001b[0m\u001b[0;34m\u001b[0m\u001b[0m\n",
            "\u001b[0;31mTypeError\u001b[0m: 'tuple' object does not support item assignment"
          ]
        }
      ]
    }
  ]
}